{
 "cells": [
  {
   "cell_type": "code",
   "execution_count": 1,
   "metadata": {
    "pycharm": {
     "is_executing": false
    }
   },
   "outputs": [],
   "source": [
    "import sqlite3\n",
    "from werkzeug.security import generate_password_hash\n",
    "import pandas as pd\n",
    "from transliterate import translit"
   ]
  },
  {
   "cell_type": "code",
   "execution_count": 2,
   "metadata": {
    "pycharm": {
     "is_executing": false
    }
   },
   "outputs": [],
   "source": [
    "def to_en(s):\n",
    "    return translit(s.lower(), 'ru', reversed=True)"
   ]
  },
  {
   "cell_type": "code",
   "execution_count": 3,
   "metadata": {
    "pycharm": {
     "is_executing": false
    }
   },
   "outputs": [],
   "source": [
    "conn=sqlite3.connect('testFlask\\db.sqlite')\n",
    "c = conn.cursor()"
   ]
  },
  {
   "cell_type": "code",
   "execution_count": 4,
   "metadata": {
    "pycharm": {
     "is_executing": false
    }
   },
   "outputs": [],
   "source": [
    "def get_room(pid):\n",
    "    c.execute(\"select * from place where id = {}\".format(pid))\n",
    "    _, _, res = c.fetchall()[0]\n",
    "    c.execute(\"select * from room where id = {}\".format(res))\n",
    "    _, res, _, _, _, _, _ = c.fetchall()[0]\n",
    "    return res"
   ]
  },
  {
   "cell_type": "code",
   "execution_count": 8,
   "metadata": {
    "pycharm": {
     "is_executing": false
    }
   },
   "outputs": [
    {
     "data": {
      "text/plain": "<sqlite3.Cursor at 0x17c3da6d1f0>"
     },
     "metadata": {},
     "output_type": "execute_result",
     "execution_count": 8
    }
   ],
   "source": [
    "df = pd.read_csv('parser/users.csv', sep=';')[['id', 'email', 'password', 'surname', 'name', 'place_id']]\\\n",
    ".astype('str')\n",
    "df['password'] = list(map(lambda x: generate_password_hash(x, method='sha256'), df['password']))\n",
    "df['name'] = list(map(lambda x: '' if x == 'nan' else x, df['name']))\n",
    "\n",
    "sur = df['surname']\n",
    "name = df['name']\n",
    "suren = list(map(to_en, sur))\n",
    "namen = list(map(to_en, name))\n",
    "email = df['email']\n",
    "room = list(map(get_room, df['place_id']))\n",
    "df['full_name'] = sur + ' ' + name + ' ' + sur + ' ' + suren + ' ' + namen + ' '\\\n",
    "    + suren + ' ' + room + ' ' + email;\n",
    "\n",
    "df['full_name'] = list(map(lambda x: x.lower(), df['full_name']))\n",
    "\n",
    "c.executemany(\"INSERT INTO user VALUES(?,?,?,?,?,?,?)\", df.values)"
   ]
  },
  {
   "cell_type": "code",
   "execution_count": 5,
   "metadata": {
    "pycharm": {
     "is_executing": false
    }
   },
   "outputs": [
    {
     "data": {
      "text/plain": "<sqlite3.Cursor at 0x17c3da6d1f0>"
     },
     "metadata": {},
     "output_type": "execute_result",
     "execution_count": 5
    }
   ],
   "source": [
    "df = pd.read_csv('parser/rooms.csv', sep=';')[['id', 'name', 'type', 'x', 'y', 'floor']].astype('str')\n",
    "\n",
    "df['full_type'] = list(map(lambda x: x.lower(), df['type']))\n",
    "\n",
    "c.executemany(\"INSERT INTO room VALUES(?,?,?,?,?,?,?)\", df.values)"
   ]
  },
  {
   "cell_type": "code",
   "execution_count": 6,
   "metadata": {
    "pycharm": {
     "is_executing": false
    }
   },
   "outputs": [
    {
     "data": {
      "text/plain": "<sqlite3.Cursor at 0x17c3da6d1f0>"
     },
     "metadata": {},
     "output_type": "execute_result",
     "execution_count": 6
    }
   ],
   "source": [
    "df = pd.read_csv('parser/places.csv', sep=';')[['id', 'number', 'room_id']].astype('str')\n",
    "c.executemany(\"INSERT INTO place VALUES(?,?,?)\", df.values)"
   ]
  },
  {
   "cell_type": "code",
   "execution_count": 9,
   "metadata": {
    "pycharm": {
     "is_executing": false
    }
   },
   "outputs": [],
   "source": [
    "c.close()\n",
    "conn.commit()\n",
    "conn.close()"
   ]
  },
  {
   "cell_type": "code",
   "execution_count": 11,
   "metadata": {
    "pycharm": {
     "is_executing": false
    }
   },
   "outputs": [
    {
     "traceback": [
      "\u001b[1;31m---------------------------------------------------------------------------\u001b[0m",
      "\u001b[1;31mProgrammingError\u001b[0m                          Traceback (most recent call last)",
      "\u001b[1;32m<ipython-input-11-002ff6f88bbc>\u001b[0m in \u001b[0;36m<module>\u001b[1;34m\u001b[0m\n\u001b[1;32m----> 1\u001b[1;33m \u001b[0mc\u001b[0m\u001b[1;33m.\u001b[0m\u001b[0mexecute\u001b[0m\u001b[1;33m(\u001b[0m\u001b[1;34m'select * from user'\u001b[0m\u001b[1;33m)\u001b[0m\u001b[1;33m\u001b[0m\u001b[1;33m\u001b[0m\u001b[0m\n\u001b[0m\u001b[0;32m      2\u001b[0m \u001b[0mc\u001b[0m\u001b[1;33m.\u001b[0m\u001b[0mfetchall\u001b[0m\u001b[1;33m(\u001b[0m\u001b[1;33m)\u001b[0m\u001b[1;33m\u001b[0m\u001b[1;33m\u001b[0m\u001b[0m\n\u001b[0;32m      3\u001b[0m \u001b[1;33m\u001b[0m\u001b[0m\n",
      "\u001b[1;31mProgrammingError\u001b[0m: Cannot operate on a closed cursor."
     ],
     "ename": "ProgrammingError",
     "evalue": "Cannot operate on a closed cursor.",
     "output_type": "error"
    }
   ],
   "source": [
    "c.execute('select * from user')\n",
    "c.fetchall()"
   ]
  },
  {
   "cell_type": "code",
   "execution_count": 12,
   "metadata": {
    "pycharm": {
     "is_executing": false
    }
   },
   "outputs": [
    {
     "data": {
      "text/plain": "      id                         email  \\\n0      1       petrov.ivan@company.com   \n1      2  komandrov.sergej@company.com   \n2      3     sapogov.artem@company.com   \n3      4          barista.@company.com   \n4      5     oborudovanie.@company.com   \n..   ...                           ...   \n156  157   ilin.innokentij@company.com   \n157  158    schavov.mihail@company.com   \n158  159   neverov.dmitrij@company.com   \n159  160   kudrjavov.boris@company.com   \n160  161      smorev.demid@company.com   \n\n                                              password       surname  \\\n0    sha256$PfgAsmhi$6536d104e80cfb258eaf63c8479032...        Петров   \n1    sha256$gLCcCarx$c4c858f4d374e104ee177c7a7fb6c2...     Командров   \n2    sha256$xFhbKXTq$a2decdc7124c25385a9d3c83ec2b97...       Сапогов   \n3    sha256$mirBeGjx$a879975d4fe09bbe7ec7a0b592eba0...       Бариста   \n4    sha256$NiNlRuHB$4b55c42e7402d5281ed078d95c6113...  Оборудование   \n..                                                 ...           ...   \n156  sha256$cB3GT4eE$4bcdcf249e48485c82430b82b82fb8...         Ильин   \n157  sha256$mD0opqn5$8b135c7e995818eaca4dfdbf111f17...         Щавов   \n158  sha256$LPzIbtIk$8427eae1d5823e2cb830ef06251716...       Неверов   \n159  sha256$JvUmpnbk$f0d74ec7fb1ab6d0b3c9ccca234d14...      Кудрявов   \n160  sha256$2V1xsKvs$be43bded4f8602d0f3bc0b5cdced6a...        Сморев   \n\n           name place_id                                          full_name  \n0          Иван        1  петров иван петров petrov ivan petrov 101 petr...  \n1        Сергей        1  командров сергей командров komandrov sergej ko...  \n2         Артем        1  сапогов артем сапогов sapogov artem sapogov 10...  \n3                      2  бариста  бариста barista  barista 102 barista....  \n4                      3  оборудование  оборудование oborudovanie  oboru...  \n..          ...      ...                                                ...  \n156  Иннокентий      119  ильин иннокентий ильин il'in innokentij il'in ...  \n157      Михаил      119  щавов михаил щавов schavov mihail schavov 306а...  \n158     Дмитрий      119  неверов дмитрий неверов neverov dmitrij nevero...  \n159       Борис      119  кудрявов борис кудрявов kudrjavov boris kudrja...  \n160       Демид      119  сморев демид сморев smorev demid smorev 306а s...  \n\n[161 rows x 7 columns]",
      "text/html": "<div>\n<style scoped>\n    .dataframe tbody tr th:only-of-type {\n        vertical-align: middle;\n    }\n\n    .dataframe tbody tr th {\n        vertical-align: top;\n    }\n\n    .dataframe thead th {\n        text-align: right;\n    }\n</style>\n<table border=\"1\" class=\"dataframe\">\n  <thead>\n    <tr style=\"text-align: right;\">\n      <th></th>\n      <th>id</th>\n      <th>email</th>\n      <th>password</th>\n      <th>surname</th>\n      <th>name</th>\n      <th>place_id</th>\n      <th>full_name</th>\n    </tr>\n  </thead>\n  <tbody>\n    <tr>\n      <th>0</th>\n      <td>1</td>\n      <td>petrov.ivan@company.com</td>\n      <td>sha256$PfgAsmhi$6536d104e80cfb258eaf63c8479032...</td>\n      <td>Петров</td>\n      <td>Иван</td>\n      <td>1</td>\n      <td>петров иван петров petrov ivan petrov 101 petr...</td>\n    </tr>\n    <tr>\n      <th>1</th>\n      <td>2</td>\n      <td>komandrov.sergej@company.com</td>\n      <td>sha256$gLCcCarx$c4c858f4d374e104ee177c7a7fb6c2...</td>\n      <td>Командров</td>\n      <td>Сергей</td>\n      <td>1</td>\n      <td>командров сергей командров komandrov sergej ko...</td>\n    </tr>\n    <tr>\n      <th>2</th>\n      <td>3</td>\n      <td>sapogov.artem@company.com</td>\n      <td>sha256$xFhbKXTq$a2decdc7124c25385a9d3c83ec2b97...</td>\n      <td>Сапогов</td>\n      <td>Артем</td>\n      <td>1</td>\n      <td>сапогов артем сапогов sapogov artem sapogov 10...</td>\n    </tr>\n    <tr>\n      <th>3</th>\n      <td>4</td>\n      <td>barista.@company.com</td>\n      <td>sha256$mirBeGjx$a879975d4fe09bbe7ec7a0b592eba0...</td>\n      <td>Бариста</td>\n      <td></td>\n      <td>2</td>\n      <td>бариста  бариста barista  barista 102 barista....</td>\n    </tr>\n    <tr>\n      <th>4</th>\n      <td>5</td>\n      <td>oborudovanie.@company.com</td>\n      <td>sha256$NiNlRuHB$4b55c42e7402d5281ed078d95c6113...</td>\n      <td>Оборудование</td>\n      <td></td>\n      <td>3</td>\n      <td>оборудование  оборудование oborudovanie  oboru...</td>\n    </tr>\n    <tr>\n      <th>...</th>\n      <td>...</td>\n      <td>...</td>\n      <td>...</td>\n      <td>...</td>\n      <td>...</td>\n      <td>...</td>\n      <td>...</td>\n    </tr>\n    <tr>\n      <th>156</th>\n      <td>157</td>\n      <td>ilin.innokentij@company.com</td>\n      <td>sha256$cB3GT4eE$4bcdcf249e48485c82430b82b82fb8...</td>\n      <td>Ильин</td>\n      <td>Иннокентий</td>\n      <td>119</td>\n      <td>ильин иннокентий ильин il'in innokentij il'in ...</td>\n    </tr>\n    <tr>\n      <th>157</th>\n      <td>158</td>\n      <td>schavov.mihail@company.com</td>\n      <td>sha256$mD0opqn5$8b135c7e995818eaca4dfdbf111f17...</td>\n      <td>Щавов</td>\n      <td>Михаил</td>\n      <td>119</td>\n      <td>щавов михаил щавов schavov mihail schavov 306а...</td>\n    </tr>\n    <tr>\n      <th>158</th>\n      <td>159</td>\n      <td>neverov.dmitrij@company.com</td>\n      <td>sha256$LPzIbtIk$8427eae1d5823e2cb830ef06251716...</td>\n      <td>Неверов</td>\n      <td>Дмитрий</td>\n      <td>119</td>\n      <td>неверов дмитрий неверов neverov dmitrij nevero...</td>\n    </tr>\n    <tr>\n      <th>159</th>\n      <td>160</td>\n      <td>kudrjavov.boris@company.com</td>\n      <td>sha256$JvUmpnbk$f0d74ec7fb1ab6d0b3c9ccca234d14...</td>\n      <td>Кудрявов</td>\n      <td>Борис</td>\n      <td>119</td>\n      <td>кудрявов борис кудрявов kudrjavov boris kudrja...</td>\n    </tr>\n    <tr>\n      <th>160</th>\n      <td>161</td>\n      <td>smorev.demid@company.com</td>\n      <td>sha256$2V1xsKvs$be43bded4f8602d0f3bc0b5cdced6a...</td>\n      <td>Сморев</td>\n      <td>Демид</td>\n      <td>119</td>\n      <td>сморев демид сморев smorev demid smorev 306а s...</td>\n    </tr>\n  </tbody>\n</table>\n<p>161 rows × 7 columns</p>\n</div>"
     },
     "metadata": {},
     "output_type": "execute_result",
     "execution_count": 12
    }
   ],
   "source": [
    "df"
   ]
  },
  {
   "cell_type": "code",
   "execution_count": 10,
   "metadata": {
    "pycharm": {
     "is_executing": false
    }
   },
   "outputs": [],
   "source": []
  }
 ],
 "metadata": {
  "kernelspec": {
   "display_name": "Python 3",
   "language": "python",
   "name": "python3"
  },
  "language_info": {
   "codemirror_mode": {
    "name": "ipython",
    "version": 3
   },
   "file_extension": ".py",
   "mimetype": "text/x-python",
   "name": "python",
   "nbconvert_exporter": "python",
   "pygments_lexer": "ipython3",
   "version": "3.7.4"
  },
  "pycharm": {
   "stem_cell": {
    "cell_type": "raw",
    "source": [],
    "metadata": {
     "collapsed": false
    }
   }
  }
 },
 "nbformat": 4,
 "nbformat_minor": 2
}