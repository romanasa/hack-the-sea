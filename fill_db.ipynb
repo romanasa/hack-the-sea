{
 "cells": [
  {
   "cell_type": "code",
   "execution_count": 37,
   "metadata": {},
   "outputs": [],
   "source": [
    "import sqlite3\n",
    "from werkzeug.security import generate_password_hash\n",
    "import pandas as pd"
   ]
  },
  {
   "cell_type": "code",
   "execution_count": 38,
   "metadata": {},
   "outputs": [],
   "source": [
    "conn=sqlite3.connect('testFlask\\db.sqlite')\n",
    "c = conn.cursor()"
   ]
  },
  {
   "cell_type": "code",
   "execution_count": 39,
   "metadata": {},
   "outputs": [
    {
     "data": {
      "text/plain": [
       "<sqlite3.Cursor at 0x1691ba0>"
      ]
     },
     "execution_count": 39,
     "metadata": {},
     "output_type": "execute_result"
    }
   ],
   "source": [
    "df = pd.read_csv('parser/users.csv', sep=';')[['id', 'email', 'password', 'surname', 'name', 'place_id']]\\\n",
    ".astype('str')\n",
    "df['password'] = list(map(lambda x: generate_password_hash(x, method='sha256'), df['password']))\n",
    "df['name'] = list(map(lambda x: '' if x == 'nan' else x, df['name']))\n",
    "df['full_name'] = df['surname'] + ' ' + df['name']\n",
    "c.executemany(\"INSERT INTO user VALUES(?,?,?,?,?,?,?)\", df.values)"
   ]
  },
  {
   "cell_type": "code",
   "execution_count": 40,
   "metadata": {},
   "outputs": [
    {
     "data": {
      "text/plain": [
       "<sqlite3.Cursor at 0x1691ba0>"
      ]
     },
     "execution_count": 40,
     "metadata": {},
     "output_type": "execute_result"
    }
   ],
   "source": [
    "df = pd.read_csv('parser/rooms.csv', sep=';')[['id', 'name', 'type', 'x', 'y', 'floor']].astype('str')\n",
    "c.executemany(\"INSERT INTO room VALUES(?,?,?,?,?,?)\", df.values)"
   ]
  },
  {
   "cell_type": "code",
   "execution_count": 41,
   "metadata": {},
   "outputs": [
    {
     "data": {
      "text/plain": [
       "<sqlite3.Cursor at 0x1691ba0>"
      ]
     },
     "execution_count": 41,
     "metadata": {},
     "output_type": "execute_result"
    }
   ],
   "source": [
    "df = pd.read_csv('parser/places.csv', sep=';')[['id', 'number', 'room_id']].astype('str')\n",
    "c.executemany(\"INSERT INTO place VALUES(?,?,?)\", df.values)"
   ]
  },
  {
   "cell_type": "code",
   "execution_count": 42,
   "metadata": {},
   "outputs": [],
   "source": [
    "c.close()\n",
    "conn.commit()\n",
    "conn.close()"
   ]
  },
  {
   "cell_type": "code",
   "execution_count": null,
   "metadata": {},
   "outputs": [],
   "source": [
    "c.execute('select * from room')\n",
    "c.fetchall()"
   ]
  },
  {
   "cell_type": "code",
   "execution_count": 36,
   "metadata": {},
   "outputs": [
    {
     "data": {
      "text/html": [
       "<div>\n",
       "<style scoped>\n",
       "    .dataframe tbody tr th:only-of-type {\n",
       "        vertical-align: middle;\n",
       "    }\n",
       "\n",
       "    .dataframe tbody tr th {\n",
       "        vertical-align: top;\n",
       "    }\n",
       "\n",
       "    .dataframe thead th {\n",
       "        text-align: right;\n",
       "    }\n",
       "</style>\n",
       "<table border=\"1\" class=\"dataframe\">\n",
       "  <thead>\n",
       "    <tr style=\"text-align: right;\">\n",
       "      <th></th>\n",
       "      <th>id</th>\n",
       "      <th>email</th>\n",
       "      <th>password</th>\n",
       "      <th>surname</th>\n",
       "      <th>name</th>\n",
       "      <th>place_id</th>\n",
       "      <th>full_name</th>\n",
       "    </tr>\n",
       "  </thead>\n",
       "  <tbody>\n",
       "    <tr>\n",
       "      <th>0</th>\n",
       "      <td>1</td>\n",
       "      <td>petrov.ivan@company.com</td>\n",
       "      <td>sha256$U4Ee1mS1$74f79d7424f3bc1f30df1b0d1857f8...</td>\n",
       "      <td>Петров</td>\n",
       "      <td>Иван</td>\n",
       "      <td>1</td>\n",
       "      <td>Петров Иван</td>\n",
       "    </tr>\n",
       "    <tr>\n",
       "      <th>1</th>\n",
       "      <td>2</td>\n",
       "      <td>komandrov.sergej@company.com</td>\n",
       "      <td>sha256$7JMuxCLu$34dc20304d181b8004a7b142052426...</td>\n",
       "      <td>Командров</td>\n",
       "      <td>Сергей</td>\n",
       "      <td>1</td>\n",
       "      <td>Командров Сергей</td>\n",
       "    </tr>\n",
       "    <tr>\n",
       "      <th>2</th>\n",
       "      <td>3</td>\n",
       "      <td>sapogov.artem@company.com</td>\n",
       "      <td>sha256$CuVj4rND$099078f86f06e422e9f5034f10c5ea...</td>\n",
       "      <td>Сапогов</td>\n",
       "      <td>Артем</td>\n",
       "      <td>1</td>\n",
       "      <td>Сапогов Артем</td>\n",
       "    </tr>\n",
       "    <tr>\n",
       "      <th>3</th>\n",
       "      <td>4</td>\n",
       "      <td>barista.@company.com</td>\n",
       "      <td>sha256$7HYduiEy$77c188122b441ec898d4e29b73809a...</td>\n",
       "      <td>Бариста</td>\n",
       "      <td></td>\n",
       "      <td>2</td>\n",
       "      <td>Бариста</td>\n",
       "    </tr>\n",
       "    <tr>\n",
       "      <th>4</th>\n",
       "      <td>5</td>\n",
       "      <td>oborudovanie.@company.com</td>\n",
       "      <td>sha256$0a0E96Aj$b26fbc7f94b9eb3765725d60269adb...</td>\n",
       "      <td>Оборудование</td>\n",
       "      <td></td>\n",
       "      <td>3</td>\n",
       "      <td>Оборудование</td>\n",
       "    </tr>\n",
       "    <tr>\n",
       "      <th>...</th>\n",
       "      <td>...</td>\n",
       "      <td>...</td>\n",
       "      <td>...</td>\n",
       "      <td>...</td>\n",
       "      <td>...</td>\n",
       "      <td>...</td>\n",
       "      <td>...</td>\n",
       "    </tr>\n",
       "    <tr>\n",
       "      <th>156</th>\n",
       "      <td>157</td>\n",
       "      <td>ilin.innokentij@company.com</td>\n",
       "      <td>sha256$qjhOXq2C$99c743fb7776bb1fd84850e3acf15d...</td>\n",
       "      <td>Ильин</td>\n",
       "      <td>Иннокентий</td>\n",
       "      <td>137</td>\n",
       "      <td>Ильин Иннокентий</td>\n",
       "    </tr>\n",
       "    <tr>\n",
       "      <th>157</th>\n",
       "      <td>158</td>\n",
       "      <td>schavov.mihail@company.com</td>\n",
       "      <td>sha256$UvvvcC6n$2edcb13af386f22cf8fe76ec6d8764...</td>\n",
       "      <td>Щавов</td>\n",
       "      <td>Михаил</td>\n",
       "      <td>138</td>\n",
       "      <td>Щавов Михаил</td>\n",
       "    </tr>\n",
       "    <tr>\n",
       "      <th>158</th>\n",
       "      <td>159</td>\n",
       "      <td>neverov.dmitrij@company.com</td>\n",
       "      <td>sha256$fpZsG4F0$dcf474ce7a2200e7f239f23384635a...</td>\n",
       "      <td>Неверов</td>\n",
       "      <td>Дмитрий</td>\n",
       "      <td>139</td>\n",
       "      <td>Неверов Дмитрий</td>\n",
       "    </tr>\n",
       "    <tr>\n",
       "      <th>159</th>\n",
       "      <td>160</td>\n",
       "      <td>kudrjavov.boris@company.com</td>\n",
       "      <td>sha256$AUDeItD4$dac60c4743e56ce0071cfbee1b1719...</td>\n",
       "      <td>Кудрявов</td>\n",
       "      <td>Борис</td>\n",
       "      <td>140</td>\n",
       "      <td>Кудрявов Борис</td>\n",
       "    </tr>\n",
       "    <tr>\n",
       "      <th>160</th>\n",
       "      <td>161</td>\n",
       "      <td>smorev.demid@company.com</td>\n",
       "      <td>sha256$M0OEuP1e$ca05c4c26f908b5d29219963ed8218...</td>\n",
       "      <td>Сморев</td>\n",
       "      <td>Демид</td>\n",
       "      <td>141</td>\n",
       "      <td>Сморев Демид</td>\n",
       "    </tr>\n",
       "  </tbody>\n",
       "</table>\n",
       "<p>161 rows × 7 columns</p>\n",
       "</div>"
      ],
      "text/plain": [
       "      id                         email  \\\n",
       "0      1       petrov.ivan@company.com   \n",
       "1      2  komandrov.sergej@company.com   \n",
       "2      3     sapogov.artem@company.com   \n",
       "3      4          barista.@company.com   \n",
       "4      5     oborudovanie.@company.com   \n",
       "..   ...                           ...   \n",
       "156  157   ilin.innokentij@company.com   \n",
       "157  158    schavov.mihail@company.com   \n",
       "158  159   neverov.dmitrij@company.com   \n",
       "159  160   kudrjavov.boris@company.com   \n",
       "160  161      smorev.demid@company.com   \n",
       "\n",
       "                                              password       surname  \\\n",
       "0    sha256$U4Ee1mS1$74f79d7424f3bc1f30df1b0d1857f8...        Петров   \n",
       "1    sha256$7JMuxCLu$34dc20304d181b8004a7b142052426...     Командров   \n",
       "2    sha256$CuVj4rND$099078f86f06e422e9f5034f10c5ea...       Сапогов   \n",
       "3    sha256$7HYduiEy$77c188122b441ec898d4e29b73809a...       Бариста   \n",
       "4    sha256$0a0E96Aj$b26fbc7f94b9eb3765725d60269adb...  Оборудование   \n",
       "..                                                 ...           ...   \n",
       "156  sha256$qjhOXq2C$99c743fb7776bb1fd84850e3acf15d...         Ильин   \n",
       "157  sha256$UvvvcC6n$2edcb13af386f22cf8fe76ec6d8764...         Щавов   \n",
       "158  sha256$fpZsG4F0$dcf474ce7a2200e7f239f23384635a...       Неверов   \n",
       "159  sha256$AUDeItD4$dac60c4743e56ce0071cfbee1b1719...      Кудрявов   \n",
       "160  sha256$M0OEuP1e$ca05c4c26f908b5d29219963ed8218...        Сморев   \n",
       "\n",
       "           name place_id         full_name  \n",
       "0          Иван        1       Петров Иван  \n",
       "1        Сергей        1  Командров Сергей  \n",
       "2         Артем        1     Сапогов Артем  \n",
       "3                      2          Бариста   \n",
       "4                      3     Оборудование   \n",
       "..          ...      ...               ...  \n",
       "156  Иннокентий      137  Ильин Иннокентий  \n",
       "157      Михаил      138      Щавов Михаил  \n",
       "158     Дмитрий      139   Неверов Дмитрий  \n",
       "159       Борис      140    Кудрявов Борис  \n",
       "160       Демид      141      Сморев Демид  \n",
       "\n",
       "[161 rows x 7 columns]"
      ]
     },
     "execution_count": 36,
     "metadata": {},
     "output_type": "execute_result"
    }
   ],
   "source": [
    "df"
   ]
  },
  {
   "cell_type": "code",
   "execution_count": null,
   "metadata": {},
   "outputs": [],
   "source": []
  }
 ],
 "metadata": {
  "kernelspec": {
   "display_name": "Python 3",
   "language": "python",
   "name": "python3"
  },
  "language_info": {
   "codemirror_mode": {
    "name": "ipython",
    "version": 3
   },
   "file_extension": ".py",
   "mimetype": "text/x-python",
   "name": "python",
   "nbconvert_exporter": "python",
   "pygments_lexer": "ipython3",
   "version": "3.7.4"
  }
 },
 "nbformat": 4,
 "nbformat_minor": 2
}
